{
 "cells": [
  {
   "cell_type": "code",
   "execution_count": 1,
   "metadata": {},
   "outputs": [
    {
     "name": "stdout",
     "output_type": "stream",
     "text": [
      "El numero no es 6\n",
      "el numero es menor qeu 6\n"
     ]
    }
   ],
   "source": [
    "# Indentacion\n",
    "# {}, ;, () delimitan bloques de codigo - Java Javascript \n",
    "v1 = 5\n",
    "if v1 == 6 :\n",
    "    print('El numero es 6')\n",
    "    print('El numero es positivo')\n",
    "else:\n",
    "    print('El numero no es 6')\n",
    "    print('el numero es menor qeu 6')\n"
   ]
  },
  {
   "cell_type": "code",
   "execution_count": 2,
   "metadata": {},
   "outputs": [
    {
     "ename": "IndentationError",
     "evalue": "expected an indented block after 'if' statement on line 2 (743803944.py, line 3)",
     "output_type": "error",
     "traceback": [
      "\u001b[0;36m  Cell \u001b[0;32mIn[2], line 3\u001b[0;36m\u001b[0m\n\u001b[0;31m    print('El numero es 6')\u001b[0m\n\u001b[0m    ^\u001b[0m\n\u001b[0;31mIndentationError\u001b[0m\u001b[0;31m:\u001b[0m expected an indented block after 'if' statement on line 2\n"
     ]
    }
   ],
   "source": [
    "v1 = 5\n",
    "if v1 == 6 :\n",
    "    print('El numero es 6')\n",
    "    print('El numero es positivo')\n",
    "else:\n",
    "print('El numero no es 6')\n",
    "print('el numero es menor qeu 6')"
   ]
  },
  {
   "cell_type": "code",
   "execution_count": null,
   "metadata": {},
   "outputs": [],
   "source": [
    "# Comentarios\n",
    "# Usar: documentar el codigo, documentar funciones para que nuestro codigo sea legible\n"
   ]
  },
  {
   "cell_type": "code",
   "execution_count": 5,
   "metadata": {},
   "outputs": [],
   "source": [
    "# Variables\n",
    "# Java -> String varaible1;\n",
    "variable1 = 'Datapath'\n",
    "variable2 = 3\n",
    "variable3 = 2.4\n",
    "variable4 = 3j"
   ]
  },
  {
   "cell_type": "code",
   "execution_count": 7,
   "metadata": {},
   "outputs": [
    {
     "name": "stdout",
     "output_type": "stream",
     "text": [
      "<class 'str'>\n",
      "<class 'int'>\n",
      "<class 'float'>\n",
      "<class 'complex'>\n"
     ]
    }
   ],
   "source": [
    "print(type(variable1))\n",
    "print(type(variable2))\n",
    "print(type(variable3))\n",
    "print(type(variable4))"
   ]
  },
  {
   "cell_type": "code",
   "execution_count": 8,
   "metadata": {},
   "outputs": [
    {
     "name": "stdout",
     "output_type": "stream",
     "text": [
      "Pera\n",
      "Manzana\n",
      "Platano\n"
     ]
    }
   ],
   "source": [
    "x, y, z = 'Pera', 'Manzana', \"Platano\"\n",
    "print(x)\n",
    "print(y)\n",
    "print(z)"
   ]
  },
  {
   "cell_type": "code",
   "execution_count": 9,
   "metadata": {},
   "outputs": [
    {
     "name": "stdout",
     "output_type": "stream",
     "text": [
      "Datapath\n",
      "D\n"
     ]
    }
   ],
   "source": [
    "# String\n",
    "\n",
    "var1 = \"Datapath\"\n",
    "\n",
    "print(var1)\n",
    "print(var1[0])"
   ]
  },
  {
   "cell_type": "code",
   "execution_count": 10,
   "metadata": {},
   "outputs": [],
   "source": [
    "# Listas\n",
    "\n",
    "lista1 = []\n",
    "\n",
    "lista2 = [1, 2, 5, 6, 9] # lista de enteros\n",
    "\n",
    "lista3 = ['datapath', 'Python']\n",
    "\n",
    "lista4 = [1, \"Python\", 4j] # Lista mixta\n",
    "\n",
    "lista5 = [\"Manzana\", 4, [4, 5, 7], [1,6,'Datapath']] # lista anidada\n",
    "\n"
   ]
  },
  {
   "cell_type": "code",
   "execution_count": 13,
   "metadata": {},
   "outputs": [
    {
     "name": "stdout",
     "output_type": "stream",
     "text": [
      "['Manzana', 4, [4, 5, 7], [1, 6, 'Datapath']]\n",
      "Manzana\n",
      "[1, 6, 'Datapath']\n",
      "Datapath\n"
     ]
    }
   ],
   "source": [
    "print (lista5)\n",
    "print(lista5[0])\n",
    "print(lista5[3])\n",
    "print(lista5[3][2])\n"
   ]
  },
  {
   "cell_type": "code",
   "execution_count": null,
   "metadata": {},
   "outputs": [],
   "source": []
  }
 ],
 "metadata": {
  "kernelspec": {
   "display_name": "Python 3",
   "language": "python",
   "name": "python3"
  },
  "language_info": {
   "codemirror_mode": {
    "name": "ipython",
    "version": 3
   },
   "file_extension": ".py",
   "mimetype": "text/x-python",
   "name": "python",
   "nbconvert_exporter": "python",
   "pygments_lexer": "ipython3",
   "version": "3.12.1"
  }
 },
 "nbformat": 4,
 "nbformat_minor": 2
}
